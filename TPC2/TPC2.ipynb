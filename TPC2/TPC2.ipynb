{
 "cells": [
  {
   "cell_type": "markdown",
   "id": "10f3593b",
   "metadata": {},
   "source": [
    "### Exercício 21 fósforos "
   ]
  },
  {
   "cell_type": "markdown",
   "id": "a6209c59",
   "metadata": {},
   "source": [
    "regras do jogo:\n",
    "21 fosforos podem sair de 1-4 fosforos \n",
    "\n",
    "1 etapa jogador joga 2 lugar ganha smp\n",
    "\n",
    "2 etapa computador joga 1 lugar e computador tira sempre num = 5- jogada anterior"
   ]
  },
  {
   "cell_type": "code",
   "execution_count": 4,
   "id": "459c3f17",
   "metadata": {},
   "outputs": [
    {
     "name": "stdout",
     "output_type": "stream",
     "text": [
      "Regras: temos 21 fósforos e só podemos retirar entre 1 a 4 fósforos por jogada\n",
      "o jogador a retirar o último fósforo perde!! \n",
      " Temos 2 modos do jogo :1- jogador joga em 1 lugar ou 2- computador joga em 1 lugar\n",
      "O computador retirou 1. Restam 20 fósforos\n",
      "O computador retirou 1.\n",
      "tem 14 fosforos\n",
      "O computador retirou 1.\n",
      "tem 8 fosforos\n",
      "O computador retirou 1.\n",
      "tem 2 fosforos\n",
      "O computador retirou 1.\n"
     ]
    }
   ],
   "source": [
    "## nao percebi porque é que está a dar erro \n",
    "\n",
    "import random \n",
    "print(\"Regras: temos 21 fósforos e só podemos retirar entre 1 a 4 fósforos por jogada\")\n",
    "print(\"o jogador a retirar o último fósforo perde!! \")\n",
    "print(\" Temos 2 modos do jogo :1- jogador joga em 1 lugar ou 2- computador joga em 1 lugar\")\n",
    "modo = int(input(\"introduz o modo do jogo: \"))\n",
    "fosforos = 21 \n",
    "vencedor = None\n",
    "\n",
    "if modo == 1:\n",
    "    while fosforos > 0:\n",
    "        jogador= int(input(\"quer retirar quantos fósforos? \"))\n",
    "        while jogador < 1 or jogador > 4 or jogador > fosforos: \n",
    "            jogador = int(input(f\"Jogada inválida! Restam {fosforos}. Escolhe entre 1 e 4: \"))\n",
    "        fosforos = fosforos - jogador\n",
    "        print(f\"tem {fosforos} fosforos\")\n",
    "        print(\"agora é a vez do computador\")\n",
    "        if fosforos == 0:  # Jogador tirou o último\n",
    "            vencedor = \"Computador\"\n",
    "        else:\n",
    "            computador = min(random.randint(1,4), fosforos)\n",
    "            #min(..., fosforos) → garante que esse número não ultrapassa a quantidade de fósforos que ainda restam.\n",
    "            fosforos = fosforos- computador \n",
    "            print(f\"tem {fosforos} fosforos\")\n",
    "            if fosforos == 0:  # Computador tirou o último\n",
    "                vencedor = \"Jogador\"\n",
    "    \n",
    "    \n",
    "elif modo ==2:\n",
    "        # primeira jogada do computador → tira 1 fósforo\n",
    "    computador = 1\n",
    "    fosforos =fosforos - computador\n",
    "    print(f\"O computador retirou {computador}. Restam {fosforos} fósforos\")\n",
    "    while fosforos >0:\n",
    "        \n",
    "        computador = min(5 - jogador, fosforos) #estrategia falada na aula\n",
    "        fosforos = fosforos- computador \n",
    "        print(f\"O computador retirou {computador}.\")\n",
    "        #print(f\"tem {fosforos} fosforos\")\n",
    "        #print(\"agora é a sua vez\")\n",
    "        if fosforos == 0:  # Computador tirou o último\n",
    "            vencedor = \"Jogador\"\n",
    "        else:\n",
    "            jogador= int(input(\"quer retirar quantos fósforos? \"))\n",
    "            while jogador < 1 or jogador > 4 or jogador > fosforos: \n",
    "                jogador = int(input(f\"Jogada inválida! Restam {fosforos}. Escolhe entre 1 e 4: \"))\n",
    "            fosforos = fosforos - jogador\n",
    "            #print(f\"tem {fosforos} fosforos\")\n",
    "            #print(\"agora é a vez do computador\")\n",
    "        if fosforos <= 0:  # Jogador tirou o último\n",
    "                vencedor = \"Computador\"\n",
    "        else:\n",
    "            computador = 5 - jogador \n",
    "            fosforos = fosforos - computador\n",
    "            print(f\"tem {fosforos} fosforos\")\n",
    "        if fosforos == 0:  # Computador tirou o último\n",
    "                    vencedor = \"Jogador\"\n",
    "\n",
    "                \n",
    "else:\n",
    "    print(\"erro \")\n",
    "    vencedor = None\n",
    "        "
   ]
  }
 ],
 "metadata": {
  "kernelspec": {
   "display_name": "Python 3",
   "language": "python",
   "name": "python3"
  },
  "language_info": {
   "codemirror_mode": {
    "name": "ipython",
    "version": 3
   },
   "file_extension": ".py",
   "mimetype": "text/x-python",
   "name": "python",
   "nbconvert_exporter": "python",
   "pygments_lexer": "ipython3",
   "version": "3.13.7"
  }
 },
 "nbformat": 4,
 "nbformat_minor": 5
}
